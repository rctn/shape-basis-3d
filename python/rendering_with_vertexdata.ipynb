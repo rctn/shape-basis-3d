{
 "metadata": {
  "name": ""
 },
 "nbformat": 3,
 "nbformat_minor": 0,
 "worksheets": [
  {
   "cells": [
    {
     "cell_type": "code",
     "collapsed": false,
     "input": [
      "#Fuck it let's start new\n",
      "import scipy.io as scio\n",
      "import sys\n",
      "import numpy as np\n",
      "sys.path.append('//home/mudigonda/blender-git/build_opencolorio/bin/')\n",
      "import bpy"
     ],
     "language": "python",
     "metadata": {},
     "outputs": [],
     "prompt_number": 22
    },
    {
     "cell_type": "code",
     "collapsed": false,
     "input": [
      "jubf234=scio.loadmat('../matlab/JUBF234.mat')\n",
      "faces=jubf234['faces']\n",
      "vertices=jubf234['vertices']"
     ],
     "language": "python",
     "metadata": {},
     "outputs": [],
     "prompt_number": 23
    },
    {
     "cell_type": "code",
     "collapsed": false,
     "input": [
      "for object in bpy.data.objects:\n",
      "    if object.name != 'Lamp' and object.name !='Camera':\n",
      "        object.select = True\n",
      "        \n",
      "objs = [l for l in bpy.data.objects]\n",
      "print(objs)"
     ],
     "language": "python",
     "metadata": {},
     "outputs": [
      {
       "output_type": "stream",
       "stream": "stdout",
       "text": [
        "[bpy.data.objects['Camera'], bpy.data.objects['Lamp']]\n"
       ]
      }
     ],
     "prompt_number": 27
    },
    {
     "cell_type": "code",
     "collapsed": false,
     "input": [
      "bpy.ops.object.delete()\n",
      "mesh_3d= bpy.data.meshes.new(\"Human_Face\")"
     ],
     "language": "python",
     "metadata": {},
     "outputs": [],
     "prompt_number": 45
    },
    {
     "cell_type": "code",
     "collapsed": false,
     "input": [
      "#converting stuff to int\n",
      "vertex=[]\n",
      "for ii in range(vertices.shape[0]):\n",
      "    vertex.append((float(vertices[ii,0]),float(vertices[ii,1]),float(vertices[ii,2])))\n"
     ],
     "language": "python",
     "metadata": {},
     "outputs": [],
     "prompt_number": 46
    },
    {
     "cell_type": "code",
     "collapsed": false,
     "input": [
      "#converting more stuff to int\n",
      "face=[]\n",
      "for ii in range(faces.shape[0]):\n",
      "   face.append((int(faces[ii,0])-1,int(faces[ii,1])-1,int(faces[ii,2])-1))\n",
      "\n"
     ],
     "language": "python",
     "metadata": {},
     "outputs": [],
     "prompt_number": 47
    },
    {
     "cell_type": "code",
     "collapsed": false,
     "input": [
      "mesh_3d.from_pydata(vertex,[],face)\n"
     ],
     "language": "python",
     "metadata": {},
     "outputs": [],
     "prompt_number": "*"
    },
    {
     "cell_type": "code",
     "collapsed": false,
     "input": [
      "mesh_3d.from_pydata(vertex, [], face)  \n",
      "mesh_3d.update()\n",
      "\n",
      "obj = bpy.data.objects.new(\"My_Object\", mesh_3d)  \n",
      "\n",
      "scene = bpy.context.scene    \n",
      "scene.objects.link(obj)    \n",
      "obj.select = True    "
     ],
     "language": "python",
     "metadata": {},
     "outputs": []
    }
   ],
   "metadata": {}
  }
 ]
}